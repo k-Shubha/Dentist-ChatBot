{
 "cells": [
  {
   "cell_type": "code",
   "execution_count": 17,
   "metadata": {},
   "outputs": [],
   "source": [
    "import pandas as pd\n",
    "\n",
    "data = pd.read_csv('F:/Monica/Dental/Doctor_appointment/Doctor_appointment/data/CustomerDetails1.csv')"
   ]
  },
  {
   "cell_type": "code",
   "execution_count": 18,
   "metadata": {},
   "outputs": [],
   "source": [
    "x = data[data.First_Name=='Kranthi Kumar']['Tel_Number'].item()"
   ]
  },
  {
   "cell_type": "code",
   "execution_count": 22,
   "metadata": {},
   "outputs": [],
   "source": [
    "user_name='Kranthi Kumar'"
   ]
  },
  {
   "cell_type": "code",
   "execution_count": 20,
   "metadata": {},
   "outputs": [],
   "source": [
    "TelNo = data[data.First_Name==user_name]['Tel_Number'].item()\n",
    "Age = data[data.First_Name==user_name]['Age'].item()\n",
    "Mail = data[data.First_Name==user_name]['Mail'].item()\n",
    "\n",
    "response = \"Your details: Mobile Number: %d Age: %d Mail: %d\",TelNo,Age,Mail"
   ]
  },
  {
   "cell_type": "code",
   "execution_count": 25,
   "metadata": {},
   "outputs": [
    {
     "data": {
      "text/plain": [
       "9032020227"
      ]
     },
     "execution_count": 25,
     "metadata": {},
     "output_type": "execute_result"
    }
   ],
   "source": [
    "TelNo = int(data[data.First_Name==user_name]['Tel_Number'].item())\n",
    "TelNo"
   ]
  },
  {
   "cell_type": "code",
   "execution_count": 27,
   "metadata": {},
   "outputs": [
    {
     "data": {
      "text/plain": [
       "25"
      ]
     },
     "execution_count": 27,
     "metadata": {},
     "output_type": "execute_result"
    }
   ],
   "source": [
    "Age = data[data.First_Name==user_name]['Age']\n",
    "Age.item()"
   ]
  },
  {
   "cell_type": "code",
   "execution_count": 29,
   "metadata": {},
   "outputs": [
    {
     "data": {
      "text/plain": [
       "0    kandula.kranthi@gmail.com\n",
       "Name: Mail, dtype: object"
      ]
     },
     "execution_count": 29,
     "metadata": {},
     "output_type": "execute_result"
    }
   ],
   "source": [
    "Mail = data[data.First_Name==user_name]['Mail']\n",
    "Mail"
   ]
  },
  {
   "cell_type": "code",
   "execution_count": 21,
   "metadata": {},
   "outputs": [
    {
     "data": {
      "text/plain": [
       "('Your details: Mobile Number: %d Age: %d Mail: %d',\n",
       " 9032020227.0,\n",
       " 25,\n",
       " 'kandula.kranthi@gmail.com')"
      ]
     },
     "execution_count": 21,
     "metadata": {},
     "output_type": "execute_result"
    }
   ],
   "source": [
    "response"
   ]
  },
  {
   "cell_type": "code",
   "execution_count": 9,
   "metadata": {},
   "outputs": [
    {
     "data": {
      "text/plain": [
       "{}"
      ]
     },
     "execution_count": 9,
     "metadata": {},
     "output_type": "execute_result"
    }
   ],
   "source": [
    "import smtplib\n",
    "sender_email = \"mounikakankanti24@gmail.com\"\n",
    "password = \"wierdopwd2405@@\"\n",
    "\n",
    "s = smtplib.SMTP('smtp.gmail.com', 587)\n",
    "s.ehlo()\n",
    "s.starttls()\n",
    "s.login(sender_email, password)\n",
    "\n",
    "message = MIMEMultipart(\"alternative\")\n",
    "message[\"Subject\"] = \"Appointment Confirmation!\"\n",
    "message[\"From\"] = sender_email\n",
    "message[\"To\"] = receiver_email\n",
    "\n",
    "msg = \"Your appointment to see Doctor {Name} is scheduled for {date}and {Time}.\"\n",
    "text = MIMEText(msg, \"plain\")\n",
    "message.attach(text)\n",
    "\n",
    "# sending the mail \n",
    "receiver_id = \"mounikakanakanti@brontobyteanalytics.com\"\n",
    "s.sendmail(\"mounikakankanti24@gmail.com\", receiver_id, message.as_string())"
   ]
  },
  {
   "cell_type": "code",
   "execution_count": 6,
   "metadata": {},
   "outputs": [],
   "source": [
    "import smtplib, ssl\n",
    "from email.mime.text import MIMEText\n",
    "from email.mime.multipart import MIMEMultipart\n",
    "\n",
    "sender_email = \"mounikakankanti24@gmail.com\"message = MIMEMultipart(\"alternative\")\n",
    "message[\"Subject\"] = \"Appointment Confirmation!\"\n",
    "message[\"From\"] = sender_email\n",
    "message[\"To\"] = receiver_email\n",
    "\n",
    "msg = \"Your appointment to see Doctor {Name} is scheduled for {date}and {Time}.\"\n",
    "text = MIMEText(msg, \"plain\")\n",
    "message.attach(text)\n",
    "\n",
    "# sending the mail \n",
    "receiver_id = \"mounikakanakanti@brontobyteanalytics.com\"\n",
    "s.sendmail(\"mounikakankanti24@gmail.com\", receiver_id, message.as_string())\n",
    "receiver_email = \"mounikakanakanti@brontobyteanalytics.com\"\n",
    "password = \"wierdopwd2405@@\"\n",
    "\n",
    "message = MIMEMultipart(\"alternative\")\n",
    "message[\"Subject\"] = \"multipart test\"\n",
    "message[\"From\"] = sender_email\n",
    "message[\"To\"] = receiver_email\n",
    "\n",
    "# Create the plain-text and HTML version of your message\n",
    "text = \"\"\"\\\n",
    "Hi,\n",
    "How are you?\n",
    "Real Python has many great tutorials:\n",
    "www.realpython.com\"\"\"\n",
    "html = \"\"\"\\\n",
    "<html>\n",
    "  <body>\n",
    "    <p>Hi,<br>\n",
    "       How are you?<br>\n",
    "       <a href=\"http://www.realpython.com\">Real Python</a> \n",
    "       has many great tutorials.\n",
    "    </p>\n",
    "  </body>\n",
    "</html>\n",
    "\"\"\"\n",
    "\n",
    "# Turn these into plain/html MIMEText objects\n",
    "part1 = MIMEText(text, \"plain\")\n",
    "part2 = MIMEText(html, \"html\")\n",
    "\n",
    "# Add HTML/plain-text parts to MIMEMultipart message\n",
    "# The email client will try to render the last part first\n",
    "message.attach(part1)\n",
    "message.attach(part2)\n",
    "\n",
    "# Create secure connection with server and send email\n",
    "context = ssl.create_default_context()\n",
    "with smtplib.SMTP_SSL(\"smtp.gmail.com\", 465, context=context) as server:\n",
    "    server.login(sender_email, password)\n",
    "    server.sendmail(\n",
    "        sender_email, receiver_email, message.as_string()\n",
    "    )"
   ]
  },
  {
   "cell_type": "code",
   "execution_count": null,
   "metadata": {},
   "outputs": [],
   "source": [
    "import smtplib, ssl\n",
    "from email.mime.text import MIMEText\n",
    "from email.mime.multipart import MIMEMultipart\n",
    "\n",
    "sender_email = \"mounikakankanti24@gmail.com\"\n",
    "password = \"wierdopwd2405@@\"\n",
    "\n",
    "s = smtplib.SMTP('smtp.gmail.com', 587)\n",
    "s.ehlo()\n",
    "s.starttls()\n",
    "s.login(sender_email,password)\n",
    "print(\"hello1\")\n",
    "message = MIMEMultipart(\"alternative\")\n",
    "message[\"Subject\"] = \"Appointment Confirmation!\"\n",
    "message[\"From\"] = sender_email\n",
    "message[\"To\"] = receiver_email\n",
    "\n",
    "msg = \"Hi {FirstName}, \\n Your appointment to see Doctor {FirstName} is scheduled for {date} and {Time}. If you have any queries, please follow this link or call.\\n Thank you. \\n XYZ.\"\n",
    "text = MIMEText(msg, \"plain\")\n",
    "message.attach(text)\n",
    "print(\"hello2\")\n",
    "# sending the mail\n",
    "receiver_id = \"mounikakanakanti@brontobyteanalytics.com\"\n",
    "s.sendmail(\"mounikakankanti24@gmail.com\", receiver_id, message.as_string())\n",
    "\n"
   ]
  },
  {
   "cell_type": "code",
   "execution_count": null,
   "metadata": {},
   "outputs": [],
   "source": []
  }
 ],
 "metadata": {
  "kernelspec": {
   "display_name": "Python 3",
   "language": "python",
   "name": "python3"
  }
 },
 "nbformat": 4,
 "nbformat_minor": 2
}
