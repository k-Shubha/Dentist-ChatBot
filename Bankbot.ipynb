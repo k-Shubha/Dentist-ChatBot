{
 "cells": [
  {
   "cell_type": "code",
   "execution_count": 17,
   "metadata": {},
   "outputs": [],
   "source": [
    "import pandas as pd\n",
    "import numpy as np\n",
    "import random\n",
    "import os\n",
    "import smtplib, math\n",
    "os.chdir(r'C:\\Users\\Girish\\Documents\\Python Practise\\Practice\\Bank_Application-master\\bank')"
   ]
  },
  {
   "cell_type": "code",
   "execution_count": 18,
   "metadata": {},
   "outputs": [
    {
     "data": {
      "text/plain": [
       "array([['How are you today?'],\n",
       "       ['How are you doing?'],\n",
       "       [' How’re you?'],\n",
       "       ['How ya doin’?'],\n",
       "       ['Hey!'],\n",
       "       ['What’s up?'],\n",
       "       ['How’s your day?'],\n",
       "       ['How’s your day going?'],\n",
       "       ['How have you been?'],\n",
       "       ['How do you do?'],\n",
       "       ['Are you okay?'],\n",
       "       ['You alright boss?'],\n",
       "       ['Alright mate?']], dtype=object)"
      ]
     },
     "execution_count": 18,
     "metadata": {},
     "output_type": "execute_result"
    }
   ],
   "source": [
    "#greeting file\n",
    "gr = pd.read_csv('Greeting Dataset.csv', engine='python')\n",
    "gr = np.array(gr)\n",
    "gd = gr[:,0]\n",
    "gr"
   ]
  },
  {
   "cell_type": "code",
   "execution_count": 19,
   "metadata": {},
   "outputs": [
    {
     "data": {
      "text/plain": [
       "13"
      ]
     },
     "execution_count": 19,
     "metadata": {},
     "output_type": "execute_result"
    }
   ],
   "source": [
    "len(gd)"
   ]
  },
  {
   "cell_type": "code",
   "execution_count": 20,
   "metadata": {},
   "outputs": [
    {
     "data": {
      "text/plain": [
       "array([[\"I'd like to know your first name.\"],\n",
       "       ['First name of yours please.'],\n",
       "       ['Your first name please?'],\n",
       "       ['Your first name?'],\n",
       "       ['Tell me your first name.'],\n",
       "       ['What is your first name?']], dtype=object)"
      ]
     },
     "execution_count": 20,
     "metadata": {},
     "output_type": "execute_result"
    }
   ],
   "source": [
    "#name file\n",
    "nm = pd.read_csv('Name Dataset.csv', engine='python')\n",
    "nm = np.array(nm)\n",
    "nd = nm[:,0]\n",
    "nm"
   ]
  },
  {
   "cell_type": "code",
   "execution_count": 21,
   "metadata": {},
   "outputs": [
    {
     "data": {
      "text/plain": [
       "array([[\"I'd like to know your last name.\"],\n",
       "       ['last name of yours please.'],\n",
       "       ['Your last name please?'],\n",
       "       ['Your last name?'],\n",
       "       ['Tell me your last name.'],\n",
       "       ['What is your last name?']], dtype=object)"
      ]
     },
     "execution_count": 21,
     "metadata": {},
     "output_type": "execute_result"
    }
   ],
   "source": [
    "#name file\n",
    "lm = pd.read_csv('Lnames.csv', engine='python')\n",
    "lm = np.array(lm)\n",
    "ld = lm[:,0]\n",
    "lm"
   ]
  },
  {
   "cell_type": "code",
   "execution_count": 22,
   "metadata": {},
   "outputs": [
    {
     "data": {
      "text/plain": [
       "array([[\"I'd like to know your mobile.\"],\n",
       "       ['Please enter your mobile number.'],\n",
       "       ['Your mobile number please?'],\n",
       "       ['Your mobile number?'],\n",
       "       ['Tell me your mobile number.']], dtype=object)"
      ]
     },
     "execution_count": 22,
     "metadata": {},
     "output_type": "execute_result"
    }
   ],
   "source": [
    "#Mobileno file\n",
    "mo = pd.read_csv('MobileNumber.csv', engine='python')\n",
    "mo = np.array(mo)\n",
    "mn = mo[:,0]\n",
    "mo"
   ]
  },
  {
   "cell_type": "code",
   "execution_count": 23,
   "metadata": {},
   "outputs": [
    {
     "data": {
      "text/plain": [
       "array([[\"I'd like to know your pet name.\"],\n",
       "       ['pet name of yours please.'],\n",
       "       ['Your pet name please?'],\n",
       "       ['Your pet name?'],\n",
       "       ['Tell me your pet name.'],\n",
       "       ['What is your pet name?']], dtype=object)"
      ]
     },
     "execution_count": 23,
     "metadata": {},
     "output_type": "execute_result"
    }
   ],
   "source": [
    "#Emails file\n",
    "em = pd.read_csv('Emails.csv', engine='python')\n",
    "em = np.array(em)\n",
    "eid = em[:,0]\n",
    "em#name file\n",
    "sec1 = pd.read_csv('Security_ques1.csv', engine='python')\n",
    "sec1 = np.array(sec1)\n",
    "sc1 = sec1[:,0]\n",
    "sec1"
   ]
  },
  {
   "cell_type": "code",
   "execution_count": 24,
   "metadata": {},
   "outputs": [
    {
     "data": {
      "text/plain": [
       "array([[\"I'd like to know your pet name.\"],\n",
       "       ['pet name of yours please.'],\n",
       "       ['Your pet name please?'],\n",
       "       ['Your pet name?'],\n",
       "       ['Tell me your pet name.'],\n",
       "       ['What is your pet name?']], dtype=object)"
      ]
     },
     "execution_count": 24,
     "metadata": {},
     "output_type": "execute_result"
    }
   ],
   "source": [
    "#Security question file\n",
    "sec1 = pd.read_csv('Security_ques1.csv', engine='python')\n",
    "sec1 = np.array(sec1)\n",
    "sc1 = sec1[:,0]\n",
    "sec1"
   ]
  },
  {
   "cell_type": "code",
   "execution_count": 25,
   "metadata": {},
   "outputs": [
    {
     "name": "stdout",
     "output_type": "stream",
     "text": [
      "[[\"I'd like to know your Place of birth.\"]\n",
      " ['Place of birth of yours please.']\n",
      " ['Your Place of birth please?']\n",
      " ['Your Place of birth?']\n",
      " ['Tell me your Place of birth.']\n",
      " ['What is your Place of birth?']]\n"
     ]
    }
   ],
   "source": [
    "#Security question file2\n",
    "sec2 = pd.read_csv('Security_Ques2.csv', engine='python')\n",
    "sec2 = np.array(sec2)\n",
    "sc2 = sec2[:,0]\n",
    "print(sec2)"
   ]
  },
  {
   "cell_type": "code",
   "execution_count": 26,
   "metadata": {},
   "outputs": [],
   "source": [
    "CustomerDetails=pd.read_csv('Cust_Data.csv')"
   ]
  },
  {
   "cell_type": "code",
   "execution_count": 27,
   "metadata": {},
   "outputs": [
    {
     "data": {
      "text/plain": [
       "ID                  int64\n",
       "First_Name         object\n",
       "Last_Name          object\n",
       "Gender             object\n",
       "Mail               object\n",
       "Tel_Number          int64\n",
       "Data_oF_Birth      object\n",
       "First_Question     object\n",
       "First_Answer       object\n",
       "Second_Question    object\n",
       "Second_Answer      object\n",
       "Last_Password       int64\n",
       "dtype: object"
      ]
     },
     "execution_count": 27,
     "metadata": {},
     "output_type": "execute_result"
    }
   ],
   "source": [
    "CustomerDetails.dtypes"
   ]
  },
  {
   "cell_type": "code",
   "execution_count": 36,
   "metadata": {},
   "outputs": [],
   "source": [
    "def greet():\n",
    "    k = random.randint(0,50)\n",
    "    print(gd[k%len(gd)])\n",
    "\n",
    "def askF_name():\n",
    "    k = random.randint(0,50)\n",
    "    print(nd[k%len(nd)])\n",
    "    inp = input()\n",
    "    return inp\n",
    "\n",
    "def getF_name(text):\n",
    "    return text\n",
    "\n",
    "def askL_name():\n",
    "    k = random.randint(0,50)\n",
    "    print(ld[k%(len(ld))])\n",
    "    inp = input()\n",
    "    \n",
    "    return inp\n",
    "\n",
    "def getL_name(text):\n",
    "    return text\n",
    "\n",
    "\n",
    "\n",
    "def askMobileNo():\n",
    "    k = random.randint(0,50)\n",
    "    print(mn[k%(len(mn))])\n",
    "    inp = int(input())\n",
    "    return inp\n",
    "\n",
    "def getMobileNo(number):\n",
    "    return number\n",
    "\n",
    "def askEmail_Id():\n",
    "    k = random.randint(0,50)\n",
    "    print(eid[k%(len(eid))])\n",
    "    inp = input()\n",
    "    return inp\n",
    "\n",
    "def getEmail_id(text):\n",
    "    return text\n",
    "\n",
    "def ask_Securityques1():\n",
    "    k = random.randint(0,50)\n",
    "    print(sc1[k%(len(sc1))])\n",
    "    inp = input()\n",
    "    return inp\n",
    "\n",
    "def get_Securityques1(text):\n",
    "    return text\n",
    "\n",
    "\n",
    "def ask_Securityques2():\n",
    "    k = random.randint(0,50)\n",
    "    print(sc2[k%(len(sc2))])\n",
    "    inp = input()\n",
    "    return inp\n",
    "\n",
    "def get_Securityques2(text):\n",
    "    return text\n",
    "\n",
    "def generateOTP():\n",
    "    string = '0123456789abcdefghijklmnopqrstuvwxyzABCDEFGHIJKLMNOPQRSTUVWXYZ'\n",
    "    OTP = \"\" \n",
    "    length = len(string) \n",
    "    for i in range(6) : \n",
    "        OTP += string[math.floor(random.random() * length)] \n",
    "    s = smtplib.SMTP('smtp.gmail.com', 587)\n",
    "    s.ehlo()\n",
    "    s.starttls()\n",
    "    s.login(\"kkreddycbot@gmail.com\", \"hello@13\")\n",
    "    #message = OTP\n",
    "    print(OTP)\n",
    "\n",
    "    # sending the mail \n",
    "    s.sendmail(\"kkreddycbot@gmail.com\", Email_id, OTP)\n",
    "    return OTP\n",
    "\n",
    "\n",
    "def Mainmenu():\n",
    "    print('1.Pasword change for ATM')\n",
    "    print('2.Password change for Internet Banking')\n",
    "    print('3.exit')\n",
    "    while True:\n",
    "        try:\n",
    "            selection=int(input('enter your choice'))\n",
    "            if selection==1:\n",
    "                Password_for_ATM()\n",
    "            elif selection==2:\n",
    "                Password_for_InternetBanking()\n",
    "            elif selection==3:\n",
    "                break\n",
    "            else: \n",
    "                print('Invalid choice please enter correct choice: ')\n",
    "                Mainmenu()\n",
    "        except ValueError:\n",
    "            print('Invalid entry: ')\n",
    "\n",
    "\n",
    "def Password_for_ATM():\n",
    "    Securityques1 = ask_Securityques1()\n",
    "    Security_Question1 = get_Securityques1(Securityques1)\n",
    "    Securityques2 = ask_Securityques2()\n",
    "    Security_Question2 = get_Securityques2(Securityques2)\n",
    "    for i in range(0, len(CustomerDetails)):\n",
    "        if CustomerDetails[\"First_Answer \"][i] == Security_Question1 and CustomerDetails[\"Second_Answer\"][i] == Security_Question2:\n",
    "            PasswordChange()\n",
    "            break\n",
    "            \n",
    "            \n",
    "def Password_for_InternetBanking():\n",
    "    Securityques1 = ask_Securityques1()\n",
    "    Security_Question1 = get_Securityques1(Securityques1)\n",
    "    Securityques2 = ask_Securityques2()\n",
    "    Security_Question2 = get_Securityques2(Securityques2)\n",
    "    for i in range(0, len(CustomerDetails)):\n",
    "        if CustomerDetails[\"First_Answer \"][i] == Security_Question1 and CustomerDetails[\"Second_Answer\"][i] == Security_Question2:\n",
    "            PasswordChange()\n",
    "            break\n",
    "            \n",
    "def verifyOTP():\n",
    "    otp=input('enter your OTP: ')\n",
    "    if OTP==otp:\n",
    "        Mainmenu()\n",
    "#     else:\n",
    "# #         limit = limit+1\n",
    "# #         if limit == 3:\n",
    "#             print(\"Too many wrong attempts. Your card is blocked.\")\n",
    "#             break\n",
    "    else:\n",
    "        print('Invalid OTP')\n",
    "        print('please enter the new OTP: ')\n",
    "        verifyOTP()\n",
    "\n",
    "        \n",
    "def PasswordChange():\n",
    "    new_pass=input('enter the new password: ')\n",
    "    print(new_pass)\n",
    "    CustomerDetails['Last_Password'][index]=new_pass\n",
    "    print(CustomerDetails['Last_Password'][index])\n",
    "    print('Your Password has been sucessfully changed')\n",
    "    CustomerDetails.to_csv('CustomerDetails.csv',index=None)\n"
   ]
  },
  {
   "cell_type": "code",
   "execution_count": 29,
   "metadata": {},
   "outputs": [
    {
     "name": "stdout",
     "output_type": "stream",
     "text": [
      "Hey!\n",
      "What is your first name?\n",
      "Girish Murthy\n",
      "I'd like to know your last name.\n",
      "Varrinkala\n",
      "Tell me your mobile number.\n",
      "9701525448\n",
      "Your Email id?\n",
      "girishmurthy9@gmail.com\n"
     ]
    }
   ],
   "source": [
    "greet()\n",
    "ufName = askF_name()\n",
    "fname = getF_name(ufName)\n",
    "ulName = askL_name()\n",
    "lname = getL_name(ulName)\n",
    "uMobil = askMobileNo()\n",
    "MobileNo = getMobileNo(uMobil)\n",
    "uEmail = askEmail_Id()\n",
    "Email_id = getEmail_id(uEmail)"
   ]
  },
  {
   "cell_type": "code",
   "execution_count": 32,
   "metadata": {},
   "outputs": [
    {
     "name": "stdout",
     "output_type": "stream",
     "text": [
      "Matched at index  1\n",
      "0zBNPN\n"
     ]
    }
   ],
   "source": [
    "for i in range(0, len(CustomerDetails)):\n",
    "    global index\n",
    "    if CustomerDetails[\"First_Name\"][i] == fname and CustomerDetails[\"Last_Name\"][i] == lname and CustomerDetails[\"Mail\"][i] == uEmail and CustomerDetails[\"Tel_Number\"][i] == MobileNo:\n",
    "        print(\"Matched at index \", i)\n",
    "        index=i\n",
    "        break\n",
    "        \n",
    "OTP = generateOTP()"
   ]
  },
  {
   "cell_type": "code",
   "execution_count": 35,
   "metadata": {},
   "outputs": [
    {
     "name": "stdout",
     "output_type": "stream",
     "text": [
      "enter your OTP: 0zBNPN\n",
      "1.Pasword change for ATM\n",
      "2.Password change for Internet Banking\n",
      "3.exit\n",
      "enter your choice1\n",
      "Your pet name?\n",
      "Munna\n",
      "Tell me your Place of birth.\n",
      "LB Nagar\n",
      "enter the new password: Girish\n"
     ]
    },
    {
     "name": "stderr",
     "output_type": "stream",
     "text": [
      "C:\\Users\\Girish\\Anaconda3\\lib\\site-packages\\ipykernel_launcher.py:140: SettingWithCopyWarning: \n",
      "A value is trying to be set on a copy of a slice from a DataFrame\n",
      "\n",
      "See the caveats in the documentation: http://pandas.pydata.org/pandas-docs/stable/indexing.html#indexing-view-versus-copy\n"
     ]
    },
    {
     "name": "stdout",
     "output_type": "stream",
     "text": [
      "Girish\n",
      "Girish\n",
      "Your Password has been sucessfully changed\n",
      "enter your choice3\n"
     ]
    }
   ],
   "source": [
    "verifyOTP()"
   ]
  },
  {
   "cell_type": "code",
   "execution_count": 16,
   "metadata": {},
   "outputs": [
    {
     "name": "stdout",
     "output_type": "stream",
     "text": [
      "Pasword change for ATM\n",
      "Password change for Internet Banking\n",
      "exit\n",
      "enter your choice3\n"
     ]
    }
   ],
   "source": [
    "Mainmenu()"
   ]
  },
  {
   "cell_type": "code",
   "execution_count": null,
   "metadata": {},
   "outputs": [],
   "source": []
  }
 ],
 "metadata": {
  "kernelspec": {
   "display_name": "Python 3",
   "language": "python",
   "name": "python3"
  },
  "language_info": {
   "codemirror_mode": {
    "name": "ipython",
    "version": 3
   },
   "file_extension": ".py",
   "mimetype": "text/x-python",
   "name": "python",
   "nbconvert_exporter": "python",
   "pygments_lexer": "ipython3",
   "version": "3.6.5"
  }
 },
 "nbformat": 4,
 "nbformat_minor": 2
}
